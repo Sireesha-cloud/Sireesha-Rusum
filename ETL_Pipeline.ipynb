{
  "nbformat": 4,
  "nbformat_minor": 0,
  "metadata": {
    "colab": {
      "provenance": []
    },
    "kernelspec": {
      "name": "python3",
      "display_name": "Python 3"
    },
    "language_info": {
      "name": "python"
    }
  },
  "cells": [
    {
      "cell_type": "code",
      "execution_count": 1,
      "metadata": {
        "colab": {
          "base_uri": "https://localhost:8080/"
        },
        "id": "q5u9DDxwOva5",
        "outputId": "a3881295-2640-441f-fe47-baeb5f854912"
      },
      "outputs": [
        {
          "output_type": "stream",
          "name": "stdout",
          "text": [
            "Extracted Data:\n",
            "   TransactionID        Date       Customer   Product  Quantity   Price\n",
            "0           1001  2024-05-01       John Doe  Keyboard         2   45.99\n",
            "1           1002  2024-05-02     Jane Smith     Mouse         1   25.50\n",
            "2           1003  2024-05-02       John Doe   Monitor         1  155.00\n",
            "3           1004  2024-05-03    Emily Davis    Laptop         1  699.99\n",
            "4           1005  2024-05-04  Michael Brown  Keyboard         1   45.99\n",
            "\n",
            "Transformed Data:\n",
            "   TransactionID       Date   CustomerName   Product  Quantity   Price  \\\n",
            "0           1001 2024-05-01       John Doe  Keyboard         2   45.99   \n",
            "1           1002 2024-05-02     Jane Smith     Mouse         1   25.50   \n",
            "2           1003 2024-05-02       John Doe   Monitor         1  155.00   \n",
            "3           1004 2024-05-03    Emily Davis    Laptop         1  699.99   \n",
            "4           1005 2024-05-04  Michael Brown  Keyboard         1   45.99   \n",
            "\n",
            "   TotalSale  \n",
            "0      91.98  \n",
            "1      25.50  \n",
            "2     155.00  \n",
            "3     699.99  \n",
            "4      45.99  \n",
            "\n",
            "Loaded Data:\n",
            "(1001, '2024-05-01 00:00:00', 'John Doe', 'Keyboard', 2, 45.99, 91.98)\n",
            "(1002, '2024-05-02 00:00:00', 'Jane Smith', 'Mouse', 1, 25.5, 25.5)\n",
            "(1003, '2024-05-02 00:00:00', 'John Doe', 'Monitor', 1, 155.0, 155.0)\n",
            "(1004, '2024-05-03 00:00:00', 'Emily Davis', 'Laptop', 1, 699.99, 699.99)\n",
            "(1005, '2024-05-04 00:00:00', 'Michael Brown', 'Keyboard', 1, 45.99, 45.99)\n"
          ]
        }
      ],
      "source": [
        "# Install necessary package if needed\n",
        "# !pip install pandas\n",
        "\n",
        "import pandas as pd\n",
        "import sqlite3\n",
        "import os\n",
        "\n",
        "# 📥 Extract Phase\n",
        "# Load CSV data into a DataFrame\n",
        "data_path = '/content/sales_data.csv'\n",
        "df = pd.read_csv(data_path)\n",
        "\n",
        "print(\"Extracted Data:\")\n",
        "print(df.head())\n",
        "\n",
        "# 🛠️ Transform Phase\n",
        "# Convert 'Date' to datetime type\n",
        "df['Date'] = pd.to_datetime(df['Date'])\n",
        "\n",
        "# Calculate Total Sale for each transaction\n",
        "df['TotalSale'] = df['Quantity'] * df['Price']\n",
        "\n",
        "# Rename columns for consistency\n",
        "df.rename(columns={'Customer': 'CustomerName'}, inplace=True)\n",
        "\n",
        "print(\"\\nTransformed Data:\")\n",
        "print(df.head())\n",
        "\n",
        "# 🗄️ Load Phase\n",
        "# Connect to SQLite database (creates if not exists)\n",
        "db_path = 'sales_data.db'\n",
        "conn = sqlite3.connect(db_path)\n",
        "\n",
        "# Create cursor\n",
        "cur = conn.cursor()\n",
        "\n",
        "# Create table\n",
        "cur.execute('''\n",
        "    CREATE TABLE IF NOT EXISTS Sales (\n",
        "        TransactionID INTEGER PRIMARY KEY,\n",
        "        Date TEXT,\n",
        "        CustomerName TEXT,\n",
        "        Product TEXT,\n",
        "        Quantity INTEGER,\n",
        "        Price REAL,\n",
        "        TotalSale REAL\n",
        "    )\n",
        "''')\n",
        "\n",
        "# Insert DataFrame records into Sales table\n",
        "df.to_sql('Sales', conn, if_exists='replace', index=False)\n",
        "\n",
        "# Verify records\n",
        "cur.execute(\"SELECT * FROM Sales\")\n",
        "rows = cur.fetchall()\n",
        "print(\"\\nLoaded Data:\")\n",
        "for row in rows:\n",
        "    print(row)\n",
        "\n",
        "# Close connection\n",
        "conn.close()\n"
      ]
    }
  ]
}